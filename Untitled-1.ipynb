{
 "cells": [
  {
   "cell_type": "code",
   "execution_count": 2,
   "metadata": {},
   "outputs": [],
   "source": [
    "import pandas as pd\n",
    "import matplotlib.pyplot as plt \n",
    "from sklearn.model_selection import train_test_split\n",
    "from sklearn.datasets import load_iris\n",
    "from sklearn.preprocessing import LabelEncoder\n",
    "from sklearn.metrics import accuracy_score"
   ]
  },
  {
   "cell_type": "code",
   "execution_count": 3,
   "metadata": {},
   "outputs": [
    {
     "data": {
      "text/html": [
       "<div>\n",
       "<style scoped>\n",
       "    .dataframe tbody tr th:only-of-type {\n",
       "        vertical-align: middle;\n",
       "    }\n",
       "\n",
       "    .dataframe tbody tr th {\n",
       "        vertical-align: top;\n",
       "    }\n",
       "\n",
       "    .dataframe thead th {\n",
       "        text-align: right;\n",
       "    }\n",
       "</style>\n",
       "<table border=\"1\" class=\"dataframe\">\n",
       "  <thead>\n",
       "    <tr style=\"text-align: right;\">\n",
       "      <th></th>\n",
       "      <th>TV</th>\n",
       "      <th>Radio</th>\n",
       "      <th>Newspaper</th>\n",
       "      <th>Sales</th>\n",
       "    </tr>\n",
       "  </thead>\n",
       "  <tbody>\n",
       "    <tr>\n",
       "      <th>0</th>\n",
       "      <td>230.1</td>\n",
       "      <td>37.8</td>\n",
       "      <td>69.2</td>\n",
       "      <td>22.1</td>\n",
       "    </tr>\n",
       "    <tr>\n",
       "      <th>1</th>\n",
       "      <td>44.5</td>\n",
       "      <td>39.3</td>\n",
       "      <td>45.1</td>\n",
       "      <td>10.4</td>\n",
       "    </tr>\n",
       "    <tr>\n",
       "      <th>2</th>\n",
       "      <td>17.2</td>\n",
       "      <td>45.9</td>\n",
       "      <td>69.3</td>\n",
       "      <td>12.0</td>\n",
       "    </tr>\n",
       "    <tr>\n",
       "      <th>3</th>\n",
       "      <td>151.5</td>\n",
       "      <td>41.3</td>\n",
       "      <td>58.5</td>\n",
       "      <td>16.5</td>\n",
       "    </tr>\n",
       "    <tr>\n",
       "      <th>4</th>\n",
       "      <td>180.8</td>\n",
       "      <td>10.8</td>\n",
       "      <td>58.4</td>\n",
       "      <td>17.9</td>\n",
       "    </tr>\n",
       "  </tbody>\n",
       "</table>\n",
       "</div>"
      ],
      "text/plain": [
       "      TV  Radio  Newspaper  Sales\n",
       "0  230.1   37.8       69.2   22.1\n",
       "1   44.5   39.3       45.1   10.4\n",
       "2   17.2   45.9       69.3   12.0\n",
       "3  151.5   41.3       58.5   16.5\n",
       "4  180.8   10.8       58.4   17.9"
      ]
     },
     "execution_count": 3,
     "metadata": {},
     "output_type": "execute_result"
    }
   ],
   "source": [
    "\n",
    "df = pd.read_csv('advertising.csv')\n",
    "df.head()"
   ]
  },
  {
   "cell_type": "markdown",
   "metadata": {},
   "source": [
    "Regression model"
   ]
  },
  {
   "cell_type": "code",
   "execution_count": 4,
   "metadata": {},
   "outputs": [
    {
     "name": "stdout",
     "output_type": "stream",
     "text": [
      "[0.05489872 0.10450797 0.00293432]\n",
      "[11.63366655 15.21754453  7.05585772 18.83066033  7.04827998 10.46849777\n",
      "  7.97178425 11.91519428  8.83063697 13.28015879  5.36007066 15.75505399\n",
      "  9.65153071  9.28655261 21.68852863  5.97807843  9.31466461 16.43895075\n",
      " 18.18771735 10.58777531 20.02436444 19.26763798 10.96301822 18.84869908\n",
      " 12.47986734 21.25824716 24.88566972 15.23175364 21.37251302 14.78618876\n",
      " 14.05644462  7.13318067 15.97568346 20.83787599 20.71656683 17.24614064\n",
      "  9.1660222  25.01737563 11.57403626 13.73546062  9.17650439 21.74844495\n",
      "  7.73286775 17.11788446 19.51763841 18.06421956 16.58060267  9.8151213\n",
      " 12.65374501 17.06695029 10.10492319 10.69198893  8.84527248  7.97279958\n",
      " 19.51236625 21.08214019 10.51907876 19.07927523 10.77623749 16.93397218]\n"
     ]
    }
   ],
   "source": [
    "\n",
    "from sklearn.linear_model import LinearRegression\n",
    "\n",
    "model = LinearRegression()\n",
    "X = df[['TV','Radio','Newspaper']]\n",
    "y = df['Sales'].values\n",
    "x_train,x_test,y_train,y_test = train_test_split(X,y,test_size=0.3,random_state=7)\n",
    "model = LinearRegression()\n",
    "model.fit(x_train,y_train)\n",
    "\n",
    "print(model.coef_)\n",
    "print(model.int)\n",
    "pred = model.predict(x_test)\n",
    "print(pred)\n",
    "\n",
    "\n"
   ]
  },
  {
   "cell_type": "markdown",
   "metadata": {},
   "source": [
    "GaussianNB"
   ]
  },
  {
   "cell_type": "code",
   "execution_count": 5,
   "metadata": {},
   "outputs": [
    {
     "name": "stdout",
     "output_type": "stream",
     "text": [
      "0        Sunny\n",
      "1        Sunny\n",
      "2     Overcast\n",
      "3         Rain\n",
      "4         Rain\n",
      "5         Rain\n",
      "6     Overcast\n",
      "7        Sunny\n",
      "8        Sunny\n",
      "9         Rain\n",
      "10       Sunny\n",
      "11    Overcast\n",
      "12    Overcast\n",
      "13        Rain\n",
      "Name: outlook, dtype: object\n",
      "0      Hot\n",
      "1      Hot\n",
      "2      Hot\n",
      "3     Mild\n",
      "4     Cool\n",
      "5     Cool\n",
      "6     Cool\n",
      "7     Mild\n",
      "8     Cool\n",
      "9     Mild\n",
      "10    Mild\n",
      "11    Mild\n",
      "12     Hot\n",
      "13    Mild\n",
      "Name: temp, dtype: object\n",
      "0       High\n",
      "1       High\n",
      "2       High\n",
      "3       High\n",
      "4     Normal\n",
      "5     Normal\n",
      "6     Normal\n",
      "7       High\n",
      "8     Normal\n",
      "9     Normal\n",
      "10    Normal\n",
      "11      High\n",
      "12    Normal\n",
      "13      High\n",
      "Name: humidity, dtype: object\n",
      "0       Weak\n",
      "1     Strong\n",
      "2       Weak\n",
      "3       Weak\n",
      "4       Weak\n",
      "5     Strong\n",
      "6     Strong\n",
      "7       Weak\n",
      "8       Weak\n",
      "9       Weak\n",
      "10    Strong\n",
      "11    Strong\n",
      "12      Weak\n",
      "13    Strong\n",
      "Name: wind, dtype: object\n",
      "0      No\n",
      "1      No\n",
      "2     Yes\n",
      "3     Yes\n",
      "4     Yes\n",
      "5      No\n",
      "6     Yes\n",
      "7      No\n",
      "8     Yes\n",
      "9     Yes\n",
      "10    Yes\n",
      "11    Yes\n",
      "12    Yes\n",
      "13     No\n",
      "Name: play, dtype: object\n"
     ]
    }
   ],
   "source": [
    "from sklearn.naive_bayes import GaussianNB,BernoulliNB,MultinomialNB,ComplementNB\n",
    "df = pd.read_csv('play_tennis.csv')\n",
    "df.drop(['day'],axis=1,inplace=True)\n",
    "count =0\n",
    "# new_data = df.copy() หากต้องการสร้างเพิ่มอีกตัว\n",
    "'''ใน for loop สำหรับการ encode ทุก คอลัมล์โดยใช้ลูป'''\n",
    "for i in df.columns:\n",
    "    print(df[i])\n",
    "    # if df[i].dtype == type(object) and count != len(df.columns)-1:\n",
    "    #     count +=1\n",
    "    #     le = LabelEncoder()\n",
    "    #     df[i]=le.fit_transform(df[i])\n",
    "\n",
    "\n",
    "# X = df[['outlook','temp','humidity','wind']]\n",
    "# y = df['play']\n",
    "# x_train,x_test,y_train,y_test = train_test_split(X,y,test_size=0.3,random_state=7)\n",
    "# #วัดประสิทธิภาพ model of GaussianNB\n",
    "# model = GaussianNB()\n",
    "# pred=model.fit(x_train,y_train).predict([[1,0,0,1]])\n",
    "# # print(pred)\n",
    "# pred_test = model.predict(x_test)\n",
    "# print(\"GaussianNB :\",accuracy_score(y_test,pred_test)*100)\n",
    "\n",
    "# #วัดประสิทธิภาพ model of BernoulliNB\n",
    "# model = BernoulliNB()\n",
    "# y_pred = model.fit(x_train,y_train).predict(x_test)\n",
    "# print(\"BernoulliNB :\",accuracy_score(y_pred,y_test)*100)\n",
    "\n",
    "# #วัดประสิทธิภาพ model of MultinomialNB\n",
    "# model = MultinomialNB()\n",
    "# y_pred = model.fit(x_train,y_train).predict(x_test)\n",
    "# print(\"MultinomialNB :\",accuracy_score(y_pred,y_test)*100)\n",
    "\n",
    "# #วัดประสิทธิภาพ model of ComplementNB\n",
    "# model = ComplementNB()\n",
    "# y_pred = model.fit(x_train,y_train).predict(x_test)\n",
    "# print(\"ComplementNB :\",accuracy_score(y_pred,y_test)*100)"
   ]
  },
  {
   "cell_type": "markdown",
   "metadata": {},
   "source": [
    "KNN model"
   ]
  },
  {
   "cell_type": "code",
   "execution_count": 6,
   "metadata": {},
   "outputs": [
    {
     "ename": "ValueError",
     "evalue": "Unknown label type: 'continuous'",
     "output_type": "error",
     "traceback": [
      "\u001b[1;31m---------------------------------------------------------------------------\u001b[0m",
      "\u001b[1;31mValueError\u001b[0m                                Traceback (most recent call last)",
      "\u001b[1;32mc:\\Users\\aumra\\OneDrive\\เดสก์ท็อป\\mp\\mc\\Untitled-1.ipynb Cell 8\u001b[0m in \u001b[0;36m<cell line: 28>\u001b[1;34m()\u001b[0m\n\u001b[0;32m     <a href='vscode-notebook-cell:/c%3A/Users/aumra/OneDrive/%E0%B9%80%E0%B8%94%E0%B8%AA%E0%B8%81%E0%B9%8C%E0%B8%97%E0%B9%87%E0%B8%AD%E0%B8%9B/mp/mc/Untitled-1.ipynb#ch0000007?line=25'>26</a>\u001b[0m k\u001b[39m=\u001b[39m\u001b[39m4\u001b[39m\n\u001b[0;32m     <a href='vscode-notebook-cell:/c%3A/Users/aumra/OneDrive/%E0%B9%80%E0%B8%94%E0%B8%AA%E0%B8%81%E0%B9%8C%E0%B8%97%E0%B9%87%E0%B8%AD%E0%B8%9B/mp/mc/Untitled-1.ipynb#ch0000007?line=26'>27</a>\u001b[0m model \u001b[39m=\u001b[39m KNeighborsClassifier(n_neighbors\u001b[39m=\u001b[39mk)\n\u001b[1;32m---> <a href='vscode-notebook-cell:/c%3A/Users/aumra/OneDrive/%E0%B9%80%E0%B8%94%E0%B8%AA%E0%B8%81%E0%B9%8C%E0%B8%97%E0%B9%87%E0%B8%AD%E0%B8%9B/mp/mc/Untitled-1.ipynb#ch0000007?line=27'>28</a>\u001b[0m pred\u001b[39m=\u001b[39mmodel\u001b[39m.\u001b[39;49mfit(x_train,y_train)\u001b[39m.\u001b[39mpredict([[\u001b[39m1\u001b[39m,\u001b[39m0\u001b[39m,\u001b[39m1\u001b[39m,\u001b[39m0\u001b[39m]])\n\u001b[0;32m     <a href='vscode-notebook-cell:/c%3A/Users/aumra/OneDrive/%E0%B9%80%E0%B8%94%E0%B8%AA%E0%B8%81%E0%B9%8C%E0%B8%97%E0%B9%87%E0%B8%AD%E0%B8%9B/mp/mc/Untitled-1.ipynb#ch0000007?line=28'>29</a>\u001b[0m \u001b[39mprint\u001b[39m(pred)\n\u001b[0;32m     <a href='vscode-notebook-cell:/c%3A/Users/aumra/OneDrive/%E0%B9%80%E0%B8%94%E0%B8%AA%E0%B8%81%E0%B9%8C%E0%B8%97%E0%B9%87%E0%B8%AD%E0%B8%9B/mp/mc/Untitled-1.ipynb#ch0000007?line=30'>31</a>\u001b[0m \u001b[39m#วัดประสิทธิภาพ model \u001b[39;00m\n",
      "File \u001b[1;32mc:\\Users\\aumra\\AppData\\Local\\Programs\\Python\\Python310\\lib\\site-packages\\sklearn\\neighbors\\_classification.py:200\u001b[0m, in \u001b[0;36mKNeighborsClassifier.fit\u001b[1;34m(self, X, y)\u001b[0m\n\u001b[0;32m    181\u001b[0m \u001b[39m\"\"\"Fit the k-nearest neighbors classifier from the training dataset.\u001b[39;00m\n\u001b[0;32m    182\u001b[0m \n\u001b[0;32m    183\u001b[0m \u001b[39mParameters\u001b[39;00m\n\u001b[1;32m   (...)\u001b[0m\n\u001b[0;32m    196\u001b[0m \u001b[39m    The fitted k-nearest neighbors classifier.\u001b[39;00m\n\u001b[0;32m    197\u001b[0m \u001b[39m\"\"\"\u001b[39;00m\n\u001b[0;32m    198\u001b[0m \u001b[39mself\u001b[39m\u001b[39m.\u001b[39mweights \u001b[39m=\u001b[39m _check_weights(\u001b[39mself\u001b[39m\u001b[39m.\u001b[39mweights)\n\u001b[1;32m--> 200\u001b[0m \u001b[39mreturn\u001b[39;00m \u001b[39mself\u001b[39;49m\u001b[39m.\u001b[39;49m_fit(X, y)\n",
      "File \u001b[1;32mc:\\Users\\aumra\\AppData\\Local\\Programs\\Python\\Python310\\lib\\site-packages\\sklearn\\neighbors\\_base.py:429\u001b[0m, in \u001b[0;36mNeighborsBase._fit\u001b[1;34m(self, X, y)\u001b[0m\n\u001b[0;32m    426\u001b[0m \u001b[39melse\u001b[39;00m:\n\u001b[0;32m    427\u001b[0m     \u001b[39mself\u001b[39m\u001b[39m.\u001b[39moutputs_2d_ \u001b[39m=\u001b[39m \u001b[39mTrue\u001b[39;00m\n\u001b[1;32m--> 429\u001b[0m check_classification_targets(y)\n\u001b[0;32m    430\u001b[0m \u001b[39mself\u001b[39m\u001b[39m.\u001b[39mclasses_ \u001b[39m=\u001b[39m []\n\u001b[0;32m    431\u001b[0m \u001b[39mself\u001b[39m\u001b[39m.\u001b[39m_y \u001b[39m=\u001b[39m np\u001b[39m.\u001b[39mempty(y\u001b[39m.\u001b[39mshape, dtype\u001b[39m=\u001b[39m\u001b[39mint\u001b[39m)\n",
      "File \u001b[1;32mc:\\Users\\aumra\\AppData\\Local\\Programs\\Python\\Python310\\lib\\site-packages\\sklearn\\utils\\multiclass.py:200\u001b[0m, in \u001b[0;36mcheck_classification_targets\u001b[1;34m(y)\u001b[0m\n\u001b[0;32m    192\u001b[0m y_type \u001b[39m=\u001b[39m type_of_target(y, input_name\u001b[39m=\u001b[39m\u001b[39m\"\u001b[39m\u001b[39my\u001b[39m\u001b[39m\"\u001b[39m)\n\u001b[0;32m    193\u001b[0m \u001b[39mif\u001b[39;00m y_type \u001b[39mnot\u001b[39;00m \u001b[39min\u001b[39;00m [\n\u001b[0;32m    194\u001b[0m     \u001b[39m\"\u001b[39m\u001b[39mbinary\u001b[39m\u001b[39m\"\u001b[39m,\n\u001b[0;32m    195\u001b[0m     \u001b[39m\"\u001b[39m\u001b[39mmulticlass\u001b[39m\u001b[39m\"\u001b[39m,\n\u001b[1;32m   (...)\u001b[0m\n\u001b[0;32m    198\u001b[0m     \u001b[39m\"\u001b[39m\u001b[39mmultilabel-sequences\u001b[39m\u001b[39m\"\u001b[39m,\n\u001b[0;32m    199\u001b[0m ]:\n\u001b[1;32m--> 200\u001b[0m     \u001b[39mraise\u001b[39;00m \u001b[39mValueError\u001b[39;00m(\u001b[39m\"\u001b[39m\u001b[39mUnknown label type: \u001b[39m\u001b[39m%r\u001b[39;00m\u001b[39m\"\u001b[39m \u001b[39m%\u001b[39m y_type)\n",
      "\u001b[1;31mValueError\u001b[0m: Unknown label type: 'continuous'"
     ]
    }
   ],
   "source": [
    "from sklearn.neighbors import KNeighborsClassifier\n",
    "\n",
    "\n",
    "x_train,x_test,y_train,y_test = train_test_split(X,y,test_size=0.3,random_state=7)\n",
    "\n",
    "#find the best K\n",
    "'''import numpy as np\n",
    "n_k = np.arange(1,9)\n",
    "train_score = np.empty(len(n_k))\n",
    "test_score = np.empty(len(n_k))\n",
    "for index,k in enumerate(n_k):\n",
    "    # print(index)\n",
    "    model = KNeighborsClassifier(n_neighbors=k)\n",
    "    model.fit(x_train,y_train)\n",
    "    train_score[index] = model.score(x_train,y_train)\n",
    "    test_score[index] = model.score(x_test,y_test)\n",
    "\n",
    "plt.title('compare k')\n",
    "plt.plot(n_k,test_score,label='test score',marker='*')\n",
    "plt.plot(n_k,train_score,label='train score',marker='*')\n",
    "plt.xlabel('K number')\n",
    "plt.ylabel('Score')\n",
    "plt.legend()\n",
    "plt.show()'''\n",
    "\n",
    "k=4\n",
    "model = KNeighborsClassifier(n_neighbors=k)\n",
    "pred=model.fit(x_train,y_train).predict([[1,0,1,0]])\n",
    "print(pred)\n",
    "\n",
    "#วัดประสิทธิภาพ model \n",
    "pred_test = model.predict(x_test)\n",
    "print(accuracy_score(y_test,pred_test)*100)\n"
   ]
  },
  {
   "cell_type": "code",
   "execution_count": null,
   "metadata": {},
   "outputs": [
    {
     "data": {
      "text/plain": [
       "array([1, 1, 1, 2, 0, 0, 0, 2, 0, 2, 2, 2, 1, 2])"
      ]
     },
     "execution_count": 13,
     "metadata": {},
     "output_type": "execute_result"
    }
   ],
   "source": [
    "from sklearn.naive_bayes import GaussianNB\n",
    "df = pd.read_csv('play_tennis.csv')\n",
    "# df.drop(['day'],axis=1,inplace=True)\n",
    "# count =0\n",
    "new_data = df.copy() #หากต้องการสร้างเพิ่มอีกตัว\n",
    "'''ใน for loop สำหรับการ encode ทุก คอลัมล์โดยใช้ลูป'''\n",
    "for i in df.columns:\n",
    "    if df[i].dtype == type(object) :\n",
    "      \n",
    "        le = LabelEncoder()\n",
    "        new_data[i]=le.fit_transform(df[i])\n",
    "\n",
    "new_data = pd.DataFrame()    \n",
    "le = LabelEncoder()     \n",
    "new_data = le.fit_transform(df['temp'])\n",
    "new_data"
   ]
  },
  {
   "cell_type": "code",
   "execution_count": null,
   "metadata": {},
   "outputs": [
    {
     "data": {
      "text/plain": [
       "Index(['outlook', 'temp', 'humidity', 'wind', 'play'], dtype='object')"
      ]
     },
     "execution_count": 8,
     "metadata": {},
     "output_type": "execute_result"
    }
   ],
   "source": [
    "df.keys()"
   ]
  }
 ],
 "metadata": {
  "kernelspec": {
   "display_name": "Python 3.10.5 64-bit",
   "language": "python",
   "name": "python3"
  },
  "language_info": {
   "codemirror_mode": {
    "name": "ipython",
    "version": 3
   },
   "file_extension": ".py",
   "mimetype": "text/x-python",
   "name": "python",
   "nbconvert_exporter": "python",
   "pygments_lexer": "ipython3",
   "version": "3.10.5"
  },
  "orig_nbformat": 4,
  "vscode": {
   "interpreter": {
    "hash": "ca24f8275a328de2b3270a7cab77592329fa07a6c920079074a1e486941f897c"
   }
  }
 },
 "nbformat": 4,
 "nbformat_minor": 2
}
