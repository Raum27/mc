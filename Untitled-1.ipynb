{
 "cells": [
  {
   "cell_type": "code",
   "execution_count": 20,
   "metadata": {},
   "outputs": [],
   "source": [
    "import pandas as pd\n",
    "import matplotlib.pyplot as plt \n",
    "from sklearn.model_selection import train_test_split\n",
    "from sklearn.datasets import load_iris\n",
    "from sklearn.preprocessing import LabelEncoder\n",
    "from sklearn.metrics import accuracy_score"
   ]
  },
  {
   "cell_type": "code",
   "execution_count": 21,
   "metadata": {},
   "outputs": [
    {
     "data": {
      "text/html": [
       "<div>\n",
       "<style scoped>\n",
       "    .dataframe tbody tr th:only-of-type {\n",
       "        vertical-align: middle;\n",
       "    }\n",
       "\n",
       "    .dataframe tbody tr th {\n",
       "        vertical-align: top;\n",
       "    }\n",
       "\n",
       "    .dataframe thead th {\n",
       "        text-align: right;\n",
       "    }\n",
       "</style>\n",
       "<table border=\"1\" class=\"dataframe\">\n",
       "  <thead>\n",
       "    <tr style=\"text-align: right;\">\n",
       "      <th></th>\n",
       "      <th>TV</th>\n",
       "      <th>Radio</th>\n",
       "      <th>Newspaper</th>\n",
       "      <th>Sales</th>\n",
       "    </tr>\n",
       "  </thead>\n",
       "  <tbody>\n",
       "    <tr>\n",
       "      <th>0</th>\n",
       "      <td>230.1</td>\n",
       "      <td>37.8</td>\n",
       "      <td>69.2</td>\n",
       "      <td>22.1</td>\n",
       "    </tr>\n",
       "    <tr>\n",
       "      <th>1</th>\n",
       "      <td>44.5</td>\n",
       "      <td>39.3</td>\n",
       "      <td>45.1</td>\n",
       "      <td>10.4</td>\n",
       "    </tr>\n",
       "    <tr>\n",
       "      <th>2</th>\n",
       "      <td>17.2</td>\n",
       "      <td>45.9</td>\n",
       "      <td>69.3</td>\n",
       "      <td>12.0</td>\n",
       "    </tr>\n",
       "    <tr>\n",
       "      <th>3</th>\n",
       "      <td>151.5</td>\n",
       "      <td>41.3</td>\n",
       "      <td>58.5</td>\n",
       "      <td>16.5</td>\n",
       "    </tr>\n",
       "    <tr>\n",
       "      <th>4</th>\n",
       "      <td>180.8</td>\n",
       "      <td>10.8</td>\n",
       "      <td>58.4</td>\n",
       "      <td>17.9</td>\n",
       "    </tr>\n",
       "  </tbody>\n",
       "</table>\n",
       "</div>"
      ],
      "text/plain": [
       "      TV  Radio  Newspaper  Sales\n",
       "0  230.1   37.8       69.2   22.1\n",
       "1   44.5   39.3       45.1   10.4\n",
       "2   17.2   45.9       69.3   12.0\n",
       "3  151.5   41.3       58.5   16.5\n",
       "4  180.8   10.8       58.4   17.9"
      ]
     },
     "execution_count": 21,
     "metadata": {},
     "output_type": "execute_result"
    }
   ],
   "source": [
    "\n",
    "df = pd.read_csv('advertising.csv')\n",
    "df.head()"
   ]
  },
  {
   "cell_type": "markdown",
   "metadata": {},
   "source": [
    "Regression model"
   ]
  },
  {
   "cell_type": "code",
   "execution_count": 22,
   "metadata": {},
   "outputs": [
    {
     "name": "stdout",
     "output_type": "stream",
     "text": [
      "[11.63366655 15.21754453  7.05585772 18.83066033  7.04827998 10.46849777\n",
      "  7.97178425 11.91519428  8.83063697 13.28015879  5.36007066 15.75505399\n",
      "  9.65153071  9.28655261 21.68852863  5.97807843  9.31466461 16.43895075\n",
      " 18.18771735 10.58777531 20.02436444 19.26763798 10.96301822 18.84869908\n",
      " 12.47986734 21.25824716 24.88566972 15.23175364 21.37251302 14.78618876\n",
      " 14.05644462  7.13318067 15.97568346 20.83787599 20.71656683 17.24614064\n",
      "  9.1660222  25.01737563 11.57403626 13.73546062  9.17650439 21.74844495\n",
      "  7.73286775 17.11788446 19.51763841 18.06421956 16.58060267  9.8151213\n",
      " 12.65374501 17.06695029 10.10492319 10.69198893  8.84527248  7.97279958\n",
      " 19.51236625 21.08214019 10.51907876 19.07927523 10.77623749 16.93397218]\n"
     ]
    }
   ],
   "source": [
    "\n",
    "from sklearn.linear_model import LinearRegression\n",
    "\n",
    "model = LinearRegression()\n",
    "X = df[['TV','Radio','Newspaper']]\n",
    "y = df['Sales'].values\n",
    "x_train,x_test,y_train,y_test = train_test_split(X,y,test_size=0.3,random_state=7)\n",
    "model = LinearRegression()\n",
    "pred = model.fit(x_train,y_train).predict(x_test)\n",
    "print(pred)\n",
    "\n",
    "\n"
   ]
  },
  {
   "cell_type": "markdown",
   "metadata": {},
   "source": [
    "GaussianNB"
   ]
  },
  {
   "cell_type": "code",
   "execution_count": 25,
   "metadata": {},
   "outputs": [
    {
     "name": "stdout",
     "output_type": "stream",
     "text": [
      "40.0\n"
     ]
    },
    {
     "name": "stderr",
     "output_type": "stream",
     "text": [
      "c:\\Users\\ratch\\AppData\\Local\\Programs\\Python\\Python310\\lib\\site-packages\\sklearn\\base.py:450: UserWarning: X does not have valid feature names, but GaussianNB was fitted with feature names\n",
      "  warnings.warn(\n"
     ]
    }
   ],
   "source": [
    "from sklearn.naive_bayes import GaussianNB\n",
    "df = pd.read_csv('play_tennis.csv')\n",
    "df.drop(['day'],axis=1,inplace=True)\n",
    "count =0\n",
    "# new_data = df.copy() หากต้องการสร้างเพิ่มอีกตัว\n",
    "'''ใน for loop สำหรับการ encode ทุก คอลัมล์โดยใช้ลูป'''\n",
    "for i in df.columns:\n",
    "    if df[i].dtype == type(object) and count != len(df.columns)-1:\n",
    "        count +=1\n",
    "        le = LabelEncoder()\n",
    "        df[i]=le.fit_transform(df[i])\n",
    "\n",
    "\n",
    "X = df[['outlook','temp','humidity','wind']]\n",
    "y = df['play']\n",
    "x_train,x_test,y_train,y_test = train_test_split(X,y,test_size=0.3,random_state=7)\n",
    "model = GaussianNB()\n",
    "pred=model.fit(x_train,y_train).predict([[1,0,0,1]])\n",
    "# print(pred)\n",
    "#วัดประสิทธิภาพ model \n",
    "pred_test = model.predict(x_test)\n",
    "print(accuracy_score(y_test,pred_test)*100)"
   ]
  },
  {
   "cell_type": "markdown",
   "metadata": {},
   "source": [
    "KNN model"
   ]
  },
  {
   "cell_type": "code",
   "execution_count": 24,
   "metadata": {},
   "outputs": [
    {
     "name": "stdout",
     "output_type": "stream",
     "text": [
      "['Yes']\n",
      "80.0\n"
     ]
    },
    {
     "name": "stderr",
     "output_type": "stream",
     "text": [
      "c:\\Users\\ratch\\AppData\\Local\\Programs\\Python\\Python310\\lib\\site-packages\\sklearn\\base.py:450: UserWarning: X does not have valid feature names, but KNeighborsClassifier was fitted with feature names\n",
      "  warnings.warn(\n"
     ]
    }
   ],
   "source": [
    "from sklearn.neighbors import KNeighborsClassifier\n",
    "\n",
    "\n",
    "x_train,x_test,y_train,y_test = train_test_split(X,y,test_size=0.3,random_state=7)\n",
    "#find the best K\n",
    "'''import numpy as np\n",
    "n_k = np.arange(1,9)\n",
    "train_score = np.empty(len(n_k))\n",
    "test_score = np.empty(len(n_k))\n",
    "for index,k in enumerate(n_k):\n",
    "    # print(index)\n",
    "    model = KNeighborsClassifier(n_neighbors=k)\n",
    "    model.fit(x_train,y_train)\n",
    "    train_score[index] = model.score(x_train,y_train)\n",
    "    test_score[index] = model.score(x_test,y_test)\n",
    "\n",
    "plt.title('compare k')\n",
    "plt.plot(n_k,test_score,label='test score',marker='*')\n",
    "plt.plot(n_k,train_score,label='train score',marker='*')\n",
    "plt.xlabel('K number')\n",
    "plt.ylabel('Score')\n",
    "plt.legend()\n",
    "plt.show()'''\n",
    "\n",
    "k=4\n",
    "model = KNeighborsClassifier(n_neighbors=k)\n",
    "pred=model.fit(x_train,y_train).predict([[1,0,1,0]])\n",
    "print(pred)\n",
    "\n",
    "#วัดประสิทธิภาพ model \n",
    "pred_test = model.predict(x_test)\n",
    "print(accuracy_score(y_test,pred_test)*100)\n"
   ]
  },
  {
   "cell_type": "code",
   "execution_count": null,
   "metadata": {},
   "outputs": [],
   "source": []
  }
 ],
 "metadata": {
  "kernelspec": {
   "display_name": "Python 3.10.4 64-bit",
   "language": "python",
   "name": "python3"
  },
  "language_info": {
   "codemirror_mode": {
    "name": "ipython",
    "version": 3
   },
   "file_extension": ".py",
   "mimetype": "text/x-python",
   "name": "python",
   "nbconvert_exporter": "python",
   "pygments_lexer": "ipython3",
   "version": "3.10.4"
  },
  "orig_nbformat": 4,
  "vscode": {
   "interpreter": {
    "hash": "fce6ab0cd132cc93c2ba9f5cd35d565933e483084c60a9f0f8966e6339eaead8"
   }
  }
 },
 "nbformat": 4,
 "nbformat_minor": 2
}
